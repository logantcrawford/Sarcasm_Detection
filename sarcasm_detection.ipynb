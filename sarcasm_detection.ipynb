{
 "cells": [
  {
   "cell_type": "markdown",
   "metadata": {},
   "source": [
    "# Sarcasm Detection\n",
    "Sarcasm is one of the many kinds of social information that people regularly use in text. But despite the prevalence in everyday talk, it can be *really* hard to detect in text. The same goes for a neural network, and it is often far more challenging than other natural language processing topics. Luckily for us in today's age, we can help give each other and computers an indication of when sarcasm is used, such as emojis or TypYIng lIkE thIS, or using `\\s` after a sarcastic comment. \n",
    "\n",
    "What makes sarcasm so hard to identify is that it often is very subtle of carries contrasting notions (positives with negatives). In the article *Why is sarcasm so difficult to detect in texts and emails?* on [The Conversation](https://theconversation.com/why-is-sarcasm-so-difficult-to-detect-in-texts-and-emails-91892) by Sara Peters uses this example:\n",
    "\n",
    "Frank: I'm waiting at the front. Movie starts in 5.\n",
    "\n",
    "Mike: I'm on my way now. Should be there in 10.\n",
    "\n",
    "Frank: I'm glad you were watching the clock today.\n",
    "\n",
    "In a real-life conversation, for most of us, sarcasm would be pretty easy to detect. We could be personally invested in this person and know that Mike is often late, so Frank poked at Mike with sarcasm. But what if the comment was sincere? Through text, this is much more ambiguous. \n",
    "\n",
    "For this project, we will be working with different sarcasm to help interpret this nuanced version and the less so. The [SARC 2.0](https://nlp.cs.princeton.edu/SARC/2.0/main/) are the sarcasm labels we will use; these come from user comments labeled `\\s` at the end of comments on Reddit. We will start by loading the dependencies and gzip files and then looking into what the datasets entail."
   ]
  },
  {
   "cell_type": "code",
   "execution_count": 1,
   "metadata": {
    "scrolled": true
   },
   "outputs": [
    {
     "name": "stdout",
     "output_type": "stream",
     "text": [
      "Requirement already satisfied: lime in c:\\users\\logan\\anaconda3\\lib\\site-packages (0.2.0.1)\n",
      "Requirement already satisfied: scipy in c:\\users\\logan\\anaconda3\\lib\\site-packages (from lime) (1.4.1)\n",
      "Requirement already satisfied: numpy in c:\\users\\logan\\anaconda3\\lib\\site-packages (from lime) (1.19.5+vanilla)\n",
      "Requirement already satisfied: tqdm in c:\\users\\logan\\anaconda3\\lib\\site-packages (from lime) (4.42.1)\n",
      "Requirement already satisfied: matplotlib in c:\\users\\logan\\anaconda3\\lib\\site-packages (from lime) (3.1.3)\n",
      "Requirement already satisfied: scikit-image>=0.12 in c:\\users\\logan\\anaconda3\\lib\\site-packages (from lime) (0.16.2)\n",
      "Requirement already satisfied: scikit-learn>=0.18 in c:\\users\\logan\\anaconda3\\lib\\site-packages (from lime) (0.22.1)\n",
      "Requirement already satisfied: pyparsing!=2.0.4,!=2.1.2,!=2.1.6,>=2.0.1 in c:\\users\\logan\\anaconda3\\lib\\site-packages (from matplotlib->lime) (2.4.6)\n",
      "Requirement already satisfied: kiwisolver>=1.0.1 in c:\\users\\logan\\anaconda3\\lib\\site-packages (from matplotlib->lime) (1.1.0)\n",
      "Requirement already satisfied: python-dateutil>=2.1 in c:\\users\\logan\\anaconda3\\lib\\site-packages (from matplotlib->lime) (2.8.1)\n",
      "Requirement already satisfied: cycler>=0.10 in c:\\users\\logan\\anaconda3\\lib\\site-packages (from matplotlib->lime) (0.10.0)\n",
      "Requirement already satisfied: networkx>=2.0 in c:\\users\\logan\\anaconda3\\lib\\site-packages (from scikit-image>=0.12->lime) (2.4)\n",
      "Requirement already satisfied: PyWavelets>=0.4.0 in c:\\users\\logan\\anaconda3\\lib\\site-packages (from scikit-image>=0.12->lime) (1.1.1)\n",
      "Requirement already satisfied: imageio>=2.3.0 in c:\\users\\logan\\anaconda3\\lib\\site-packages (from scikit-image>=0.12->lime) (2.6.1)\n",
      "Requirement already satisfied: pillow>=4.3.0 in c:\\users\\logan\\anaconda3\\lib\\site-packages (from scikit-image>=0.12->lime) (7.0.0)\n",
      "Requirement already satisfied: joblib>=0.11 in c:\\users\\logan\\anaconda3\\lib\\site-packages (from scikit-learn>=0.18->lime) (0.14.1)\n",
      "Requirement already satisfied: setuptools in c:\\users\\logan\\anaconda3\\lib\\site-packages (from kiwisolver>=1.0.1->matplotlib->lime) (45.2.0.post20200210)\n",
      "Requirement already satisfied: six>=1.5 in c:\\users\\logan\\anaconda3\\lib\\site-packages (from python-dateutil>=2.1->matplotlib->lime) (1.15.0)\n",
      "Requirement already satisfied: decorator>=4.3.0 in c:\\users\\logan\\anaconda3\\lib\\site-packages (from networkx>=2.0->scikit-image>=0.12->lime) (4.4.1)\n",
      "Note: you may need to restart the kernel to use updated packages.\n"
     ]
    }
   ],
   "source": [
    "pip install lime"
   ]
  },
  {
   "cell_type": "code",
   "execution_count": 2,
   "metadata": {},
   "outputs": [],
   "source": [
    "%matplotlib inline\n",
    "\n",
    "import bz2\n",
    "import json\n",
    "import matplotlib.pyplot as plt\n",
    "import pandas as pd\n",
    "import seaborn as sns\n",
    "\n",
    "from collections import Counter\n",
    "from lime.lime_text import LimeTextExplainer\n",
    "from sklearn.feature_extraction.text import TfidfVectorizer\n",
    "from sklearn.feature_extraction.text import ENGLISH_STOP_WORDS\n",
    "from sklearn.linear_model import LogisticRegression\n",
    "from sklearn.metrics import accuracy_score, f1_score\n",
    "from sklearn.pipeline import make_pipeline\n",
    "from sklearn.dummy import DummyClassifier\n",
    "from sklearn.ensemble import RandomForestClassifier"
   ]
  },
  {
   "cell_type": "code",
   "execution_count": 3,
   "metadata": {},
   "outputs": [],
   "source": [
    "train_df = pd.read_csv('assets/sarcasm.train.tsv.gz', sep='\\t', compression='gzip').dropna()\n",
    "test_imb_df = pd.read_csv('assets/sarcasm.test-imb.tsv.gz', sep='\\t', compression='gzip').dropna()\n",
    "test_bal_df = pd.read_csv('assets/sarcasm.test-bal.tsv.gz', sep='\\t', compression='gzip').dropna()"
   ]
  },
  {
   "cell_type": "markdown",
   "metadata": {},
   "source": [
    "The datasets contain two columns, text for the text of the comment and a label for the binary value of sarcasm. 1 being sarcasm is present and 0 being no sarcasm. Based on the dataset explanation, comments with label 1 would have had `\\s` included in the comment. "
   ]
  },
  {
   "cell_type": "code",
   "execution_count": 4,
   "metadata": {},
   "outputs": [
    {
     "data": {
      "text/html": [
       "<div>\n",
       "<style scoped>\n",
       "    .dataframe tbody tr th:only-of-type {\n",
       "        vertical-align: middle;\n",
       "    }\n",
       "\n",
       "    .dataframe tbody tr th {\n",
       "        vertical-align: top;\n",
       "    }\n",
       "\n",
       "    .dataframe thead th {\n",
       "        text-align: right;\n",
       "    }\n",
       "</style>\n",
       "<table border=\"1\" class=\"dataframe\">\n",
       "  <thead>\n",
       "    <tr style=\"text-align: right;\">\n",
       "      <th></th>\n",
       "      <th>text</th>\n",
       "      <th>label</th>\n",
       "    </tr>\n",
       "  </thead>\n",
       "  <tbody>\n",
       "    <tr>\n",
       "      <th>0</th>\n",
       "      <td>Religion must have the answer</td>\n",
       "      <td>1</td>\n",
       "    </tr>\n",
       "    <tr>\n",
       "      <th>1</th>\n",
       "      <td>It's obviously tracks from a giant water tract...</td>\n",
       "      <td>0</td>\n",
       "    </tr>\n",
       "    <tr>\n",
       "      <th>2</th>\n",
       "      <td>Wow...he smoked pot...oh lord hes such a horri...</td>\n",
       "      <td>1</td>\n",
       "    </tr>\n",
       "    <tr>\n",
       "      <th>3</th>\n",
       "      <td>Wow, his girlfriend is uhm... Ah fuck it, he's...</td>\n",
       "      <td>0</td>\n",
       "    </tr>\n",
       "    <tr>\n",
       "      <th>4</th>\n",
       "      <td>I think the government should track every morm...</td>\n",
       "      <td>0</td>\n",
       "    </tr>\n",
       "  </tbody>\n",
       "</table>\n",
       "</div>"
      ],
      "text/plain": [
       "                                                text  label\n",
       "0                      Religion must have the answer      1\n",
       "1  It's obviously tracks from a giant water tract...      0\n",
       "2  Wow...he smoked pot...oh lord hes such a horri...      1\n",
       "3  Wow, his girlfriend is uhm... Ah fuck it, he's...      0\n",
       "4  I think the government should track every morm...      0"
      ]
     },
     "execution_count": 4,
     "metadata": {},
     "output_type": "execute_result"
    }
   ],
   "source": [
    "train_df.head()"
   ]
  },
  {
   "cell_type": "markdown",
   "metadata": {},
   "source": [
    "# Convert the training/test corpus to TFIDF feature vectors\n",
    "Next, we need to convert the training and test corpus to TFIDF feature vectors. We will be using `TfidfVectorizer` to featurize SARC 2.0, with a document frequency of `10`, use English stopwords, and use unigrams and bigrams as the vectorizer. "
   ]
  },
  {
   "cell_type": "code",
   "execution_count": 5,
   "metadata": {},
   "outputs": [
    {
     "data": {
      "text/plain": [
       "((257081, 17205), (64665, 17205), (1682352, 17205))"
      ]
     },
     "execution_count": 5,
     "metadata": {},
     "output_type": "execute_result"
    }
   ],
   "source": [
    "vectorizer = TfidfVectorizer(min_df=10, stop_words='english', ngram_range=(1,2))\n",
    "X_train = vectorizer.fit_transform(train_df.text)\n",
    "\n",
    "X_test_bal = vectorizer.transform(test_bal_df.text)\n",
    "X_test_imb = vectorizer.transform(test_imb_df.text)\n",
    "\n",
    "y_train = list(train_df.label)\n",
    "y_test_bal = list(test_bal_df.label)\n",
    "y_test_imb = list(test_imb_df.label)\n",
    "\n",
    "X_train.shape, X_test_bal.shape, X_test_imb.shape"
   ]
  },
  {
   "cell_type": "markdown",
   "metadata": {},
   "source": [
    "# Train model and evaluate\n",
    "We will initialize a `LogisticRegression` setting the `multi_class` to auto. We will also initialize a `RandomForestClassifier` that will let us use conjunctive features. To speed up training, we will limit the number of decision tree estimators to `50` and restrict their depth to `15`. Lastly, we will create a `DummyClassifier` used as the baseline for the performance comparison. The data that we are using is balanced and makes it suitable to apply the dummy classifier."
   ]
  },
  {
   "cell_type": "code",
   "execution_count": 6,
   "metadata": {},
   "outputs": [
    {
     "name": "stderr",
     "output_type": "stream",
     "text": [
      "C:\\Users\\Logan\\anaconda3\\lib\\site-packages\\sklearn\\dummy.py:132: FutureWarning: The default value of strategy will change from stratified to prior in 0.24.\n",
      "  \"stratified to prior in 0.24.\", FutureWarning)\n"
     ]
    }
   ],
   "source": [
    "lr_clf = LogisticRegression(multi_class='auto').fit(X_train, y_train)\n",
    "rf_clf = RandomForestClassifier(n_estimators=50, max_depth=15).fit(X_train, y_train)\n",
    "random_clf = DummyClassifier().fit(X_train, y_train).fit(X_train, y_train) # Dummy baseline"
   ]
  },
  {
   "cell_type": "code",
   "execution_count": 7,
   "metadata": {},
   "outputs": [],
   "source": [
    "y_pred_bal = lr_clf.predict(X_test_bal)\n",
    "y_pred_imb = lr_clf.predict(X_test_imb)\n",
    "\n",
    "rf_y_pred_bal = rf_clf.predict(X_test_bal)\n",
    "rf_y_pred_imb = rf_clf.predict(X_test_imb)\n",
    "\n",
    "random_y_pred_bal = random_clf.predict(X_test_bal)\n",
    "random_y_pred_imb = random_clf.predict(X_test_imb)"
   ]
  },
  {
   "cell_type": "markdown",
   "metadata": {},
   "source": [
    "# Score the predictions\n",
    "Using the f1 score, we will evaluate how each of the models performs on both y test sets, `y_test_bal` and `y_test_imb`."
   ]
  },
  {
   "cell_type": "code",
   "execution_count": 8,
   "metadata": {},
   "outputs": [
    {
     "name": "stdout",
     "output_type": "stream",
     "text": [
      "LogisticRegression on y_test_imb scored: 0.0984097150941826\n",
      "RandomForestClassifier on y_test_imb scored: 0.11630926177327305\n",
      "DummyClassifier on y_test_imb scored: 0.0503142809441514\n",
      "LogisticRegression on y_test_bal scored: 0.628169014084507\n",
      "RandomForestClassifier on y_test_bal scored: 0.49050374878189446\n",
      "DummyClassifier on y_test_bal scored: 0.5014615134784021\n"
     ]
    }
   ],
   "source": [
    "score_list = []\n",
    "# Test y_test_imb with the three models\n",
    "score_list.append((('LogisticRegression' , 'y_test_imb'), f1_score(y_test_imb, y_pred_imb, average='binary')))\n",
    "score_list.append((('RandomForestClassifier' , 'y_test_imb'), f1_score(y_test_imb, rf_y_pred_imb, average='binary')))\n",
    "score_list.append((('DummyClassifier' , 'y_test_imb'), f1_score(y_test_imb, random_y_pred_imb, average='binary')))\n",
    "\n",
    "# Test y_test_bal with the three models\n",
    "score_list.append((('LogisticRegression' , 'y_test_bal'), f1_score(y_test_bal, y_pred_bal, average='binary')))\n",
    "score_list.append((('RandomForestClassifier' , 'y_test_bal'), f1_score(y_test_bal, rf_y_pred_bal, average='binary')))\n",
    "score_list.append((('DummyClassifier' , 'y_test_bal'), f1_score(y_test_bal, random_y_pred_bal, average='binary')))\n",
    "\n",
    "for item in score_list:\n",
    "    print('{} on {} scored: {}'.format(item[0][0], item[0][1], item[1]))"
   ]
  },
  {
   "cell_type": "markdown",
   "metadata": {},
   "source": [
    "# Examining predictions\n",
    "Creating a `make_pipeline`, we can pass in the `vectorizer` created by `TfidfVectorizer` and the `LogisticRegression` and `RandomForestClassifier` to find the predicted score of sarcasm (0 being no sarcasm and 1 being absolute sarcasm). We call these `rf_pipe` and `lr_pipe`; below, we have an example with a random phrase from the test dataframe, but any text can be imputed by setting a custom value the `inst_text`."
   ]
  },
  {
   "cell_type": "code",
   "execution_count": 9,
   "metadata": {},
   "outputs": [],
   "source": [
    "rf_pipe = make_pipeline(vectorizer, rf_clf)  \n",
    "lr_pipe = make_pipeline(vectorizer, lr_clf)"
   ]
  },
  {
   "cell_type": "markdown",
   "metadata": {},
   "source": [
    "## Phrase from test dataframe"
   ]
  },
  {
   "cell_type": "code",
   "execution_count": 10,
   "metadata": {},
   "outputs": [
    {
     "name": "stdout",
     "output_type": "stream",
     "text": [
      "Comment has text \"Or.....I dunno......always fucking record not just when the escalation point is reached.\"\n",
      "True label: 0\n",
      "LogisticRegression Probability(Sarcastic) = 0.2528171083561147\n",
      "RandomForest Probability(Sarcastic) = 0.46762094898958106\n"
     ]
    }
   ],
   "source": [
    "test_row_df = test_imb_df.sample(1)\n",
    "_, inst_text, label = next(test_row_df.itertuples())\n",
    "\n",
    "print('Comment has text \"%s\"' %(inst_text))\n",
    "print('True label: %d' % label)\n",
    "print('LogisticRegression Probability(Sarcastic) =', lr_pipe.predict_proba([inst_text])[0, 1])\n",
    "print('RandomForest Probability(Sarcastic) =', rf_pipe.predict_proba([inst_text])[0, 1])"
   ]
  },
  {
   "cell_type": "markdown",
   "metadata": {},
   "source": [
    "## Imput own phrase"
   ]
  },
  {
   "cell_type": "code",
   "execution_count": 11,
   "metadata": {},
   "outputs": [
    {
     "name": "stdout",
     "output_type": "stream",
     "text": [
      "LogisticRegression Probability(Sarcastic) = 0.6812749484293568\n",
      "RandomForest Probability(Sarcastic) = 0.5069121933760886\n"
     ]
    }
   ],
   "source": [
    "inst_text = 'You guys give up, or are you thirsty for more?'\n",
    "\n",
    "print('LogisticRegression Probability(Sarcastic) =', lr_pipe.predict_proba([inst_text])[0, 1])\n",
    "print('RandomForest Probability(Sarcastic) =', rf_pipe.predict_proba([inst_text])[0, 1])"
   ]
  },
  {
   "cell_type": "markdown",
   "metadata": {},
   "source": [
    "# Evaluating predictions with Lime\n",
    "Lime is a way for data scientists to explain the individual predictions for text classifiers. We will create a `LimeTextExplainer` passing in two classes, 'sarcastic' and 'non-sarcastic'. We can then use our `inst_test` and pipelines to determine the influence individual words make on the overall sarcasm scale. Using the quote \"You guys give up, or are you thirsty for more?\" from Home Alone, we see that the word \"guys\" heavily influences both models to think that the overall sentiment is between 50% through 70% sarcastic. Interestingly the other words play a minimal role except for \"thirsty\" having a negative effect on logistic regression, implying more people might use this word less sarcastically."
   ]
  },
  {
   "cell_type": "code",
   "execution_count": 12,
   "metadata": {},
   "outputs": [],
   "source": [
    "lime_classes = ['sarcastic', 'non-sarcastic']\n",
    "explainer = LimeTextExplainer(class_names=lime_classes)"
   ]
  },
  {
   "cell_type": "code",
   "execution_count": 13,
   "metadata": {},
   "outputs": [],
   "source": [
    "inst_text = 'You guys give up, or are you thirsty for more?'\n",
    "\n",
    "rf_explanation = explainer.explain_instance(inst_text, rf_pipe.predict_proba, num_features=10)\n",
    "lr_explanation = explainer.explain_instance(inst_text, lr_pipe.predict_proba, num_features=10)"
   ]
  },
  {
   "cell_type": "code",
   "execution_count": 14,
   "metadata": {},
   "outputs": [
    {
     "name": "stdout",
     "output_type": "stream",
     "text": [
      "RandomForestClassifier has an estimated weight of 0.011751 on feature \"guys\"\n",
      "RandomForestClassifier has an estimated weight of 0.000002 on feature \"or\"\n",
      "RandomForestClassifier has an estimated weight of 0.000002 on feature \"up\"\n",
      "RandomForestClassifier has an estimated weight of 0.000002 on feature \"thirsty\"\n",
      "RandomForestClassifier has an estimated weight of 0.000001 on feature \"for\"\n",
      "RandomForestClassifier has an estimated weight of 0.000001 on feature \"You\"\n",
      "RandomForestClassifier has an estimated weight of 0.000001 on feature \"are\"\n",
      "RandomForestClassifier has an estimated weight of 0.000001 on feature \"more\"\n",
      "RandomForestClassifier has an estimated weight of 0.000001 on feature \"you\"\n",
      "RandomForestClassifier has an estimated weight of 0.000001 on feature \"give\"\n",
      "LogisticRegression has an estimated weight of 0.254910 on feature \"guys\"\n",
      "LogisticRegression has an estimated weight of -0.049464 on feature \"thirsty\"\n",
      "LogisticRegression has an estimated weight of 0.003854 on feature \"or\"\n",
      "LogisticRegression has an estimated weight of 0.003337 on feature \"you\"\n",
      "LogisticRegression has an estimated weight of 0.002191 on feature \"for\"\n",
      "LogisticRegression has an estimated weight of 0.001665 on feature \"more\"\n",
      "LogisticRegression has an estimated weight of 0.001132 on feature \"are\"\n",
      "LogisticRegression has an estimated weight of 0.000696 on feature \"give\"\n",
      "LogisticRegression has an estimated weight of 0.000041 on feature \"You\"\n",
      "LogisticRegression has an estimated weight of -0.000022 on feature \"up\"\n"
     ]
    }
   ],
   "source": [
    "for feat, val in rf_explanation.as_list():\n",
    "    print('RandomForestClassifier has an estimated weight of %f on feature \"%s\"' % (val, feat))\n",
    "    \n",
    "for feat, val in lr_explanation.as_list():\n",
    "    print('LogisticRegression has an estimated weight of %f on feature \"%s\"' % (val, feat))"
   ]
  },
  {
   "cell_type": "code",
   "execution_count": 15,
   "metadata": {},
   "outputs": [
    {
     "data": {
      "image/png": "[encoded data removed]",
      "text/plain": [
       "<Figure size 432x288 with 1 Axes>"
      ]
     },
     "metadata": {
      "needs_background": "light"
     },
     "output_type": "display_data"
    }
   ],
   "source": [
    "fig = lr_explanation.as_pyplot_figure()"
   ]
  },
  {
   "cell_type": "code",
   "execution_count": 16,
   "metadata": {},
   "outputs": [
    {
     "data": {
      "image/png": "[encoded data removed]",
      "text/plain": [
       "<Figure size 432x288 with 1 Axes>"
      ]
     },
     "metadata": {
      "needs_background": "light"
     },
     "output_type": "display_data"
    }
   ],
   "source": [
    "fig = rf_explanation.as_pyplot_figure()"
   ]
  }
 ],
 "metadata": {
  "kernelspec": {
   "display_name": "Python 3",
   "language": "python",
   "name": "python3"
  },
  "language_info": {
   "codemirror_mode": {
    "name": "ipython",
    "version": 3
   },
   "file_extension": ".py",
   "mimetype": "text/x-python",
   "name": "python",
   "nbconvert_exporter": "python",
   "pygments_lexer": "ipython3",
   "version": "3.7.6"
  }
 },
 "nbformat": 4,
 "nbformat_minor": 4
}
